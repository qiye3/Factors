{
 "cells": [
  {
   "cell_type": "markdown",
   "metadata": {},
   "source": [
    "## 两个三因子模型"
   ]
  },
  {
   "cell_type": "code",
   "execution_count": 6,
   "metadata": {},
   "outputs": [],
   "source": [
    "import pandas as pd\n",
    "import numpy as np\n",
    "from sklearn.linear_model import LinearRegression\n",
    "from utils import *\n",
    "import os\n",
    "import joblib\n",
    "import statsmodels.api as sm"
   ]
  },
  {
   "cell_type": "code",
   "execution_count": 2,
   "metadata": {},
   "outputs": [],
   "source": [
    "def mse1(y_true, y_pred):\n",
    "    if(y_true is None or y_pred is None):\n",
    "        return 0\n",
    "    \n",
    "    return np.mean((y_true - y_pred)**2)"
   ]
  },
  {
   "cell_type": "code",
   "execution_count": 3,
   "metadata": {},
   "outputs": [],
   "source": [
    "start_date = '2011-04-30'\n",
    "end_date = '2018-04-30'"
   ]
  },
  {
   "cell_type": "code",
   "execution_count": 4,
   "metadata": {},
   "outputs": [],
   "source": [
    "df_all = pd.read_csv('data/df_all.csv', dtype={'asset': str})\n",
    "df_all['date'] = pd.to_datetime(df_all['date'])\n",
    "\n",
    "# df_all = df_all[(df_all['date'] >= start_date) & (df_all['date'] <= end_date)]\n",
    "\n",
    "df_all.drop(['Unnamed: 0'], axis=1, inplace=True)\n",
    "df_all_pivot = df_all.pivot(index='date', columns='asset')"
   ]
  },
  {
   "cell_type": "code",
   "execution_count": 5,
   "metadata": {},
   "outputs": [
    {
     "name": "stdout",
     "output_type": "stream",
     "text": [
      "已经有的因子：\n"
     ]
    },
    {
     "data": {
      "text/plain": [
       "Index(['asset', 'date', 'open', 'close', 'high', 'low', 'volume', 'amount',\n",
       "       'vwap', 'pctChg', 'turnover', 'benchmark_open', 'benchmark_close',\n",
       "       'benchmark_high', 'benchmark_low', 'benchmark_vol', 'roe', 'roa', 'cvd',\n",
       "       'epq', 'emq', 'sgq', 'alaq', 'pmq', 'cta', 'size', 'Rmrf', 'Smb', 'Hml',\n",
       "       'rf', 'bm', 'ep'],\n",
       "      dtype='object')"
      ]
     },
     "execution_count": 5,
     "metadata": {},
     "output_type": "execute_result"
    }
   ],
   "source": [
    "print(\"已经有的因子：\")\n",
    "df_all.columns"
   ]
  },
  {
   "cell_type": "markdown",
   "metadata": {},
   "source": [
    "## FamaFrench三因子模型：使用RESSET数据"
   ]
  },
  {
   "cell_type": "code",
   "execution_count": null,
   "metadata": {},
   "outputs": [],
   "source": [
    "# 在models文件夹中循环读取模型\n",
    "import os\n",
    "\n",
    "# 读取模型\n",
    "fama_models = {}\n",
    "\n",
    "# 遍历 'models' 文件夹中的所有文件\n",
    "models_folder = 'models/xgb_models'  # 替换为你的模型文件夹路径\n",
    "for filename in os.listdir(models_folder):\n",
    "    if filename.endswith('.pkl'):  # 根据文件扩展名选择模型文件\n",
    "        model_path = os.path.join(models_folder, filename)\n",
    "        model_name = os.path.splitext(filename)[0]  # 获取文件名作为模型的名称\n",
    "\n",
    "        # 读取模型并存入字典\n",
    "        xgb_models[model_name] = joblib.load(model_path)"
   ]
  },
  {
   "cell_type": "code",
   "execution_count": null,
   "metadata": {},
   "outputs": [],
   "source": [
    "asset_id = '601939'\n",
    "\n",
    "results = regression_models[asset_id]\n",
    "\n",
    "print(results.summary())"
   ]
  }
 ],
 "metadata": {
  "kernelspec": {
   "display_name": "py310",
   "language": "python",
   "name": "python3"
  },
  "language_info": {
   "codemirror_mode": {
    "name": "ipython",
    "version": 3
   },
   "file_extension": ".py",
   "mimetype": "text/x-python",
   "name": "python",
   "nbconvert_exporter": "python",
   "pygments_lexer": "ipython3",
   "version": "3.10.15"
  }
 },
 "nbformat": 4,
 "nbformat_minor": 2
}
