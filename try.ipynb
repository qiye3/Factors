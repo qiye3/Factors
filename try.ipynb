{
 "cells": [
  {
   "cell_type": "code",
   "execution_count": 23,
   "metadata": {},
   "outputs": [],
   "source": [
    "from ourAlphas import *"
   ]
  },
  {
   "cell_type": "code",
   "execution_count": 24,
   "metadata": {},
   "outputs": [],
   "source": [
    "import pandas as pd\n",
    "\n",
    "# data = pd.read_csv('data/df_all_pivot.csv')"
   ]
  },
  {
   "cell_type": "code",
   "execution_count": 25,
   "metadata": {},
   "outputs": [],
   "source": [
    "# data['roe']"
   ]
  },
  {
   "cell_type": "code",
   "execution_count": 26,
   "metadata": {},
   "outputs": [],
   "source": [
    "# 读取Fama-French三因子数据:该数据来自RESSET数据库\n",
    "# ff_data = pd.read_csv('index/Fama_French.csv')"
   ]
  },
  {
   "cell_type": "code",
   "execution_count": 27,
   "metadata": {},
   "outputs": [
    {
     "data": {
      "text/html": [
       "<div>\n",
       "<style scoped>\n",
       "    .dataframe tbody tr th:only-of-type {\n",
       "        vertical-align: middle;\n",
       "    }\n",
       "\n",
       "    .dataframe tbody tr th {\n",
       "        vertical-align: top;\n",
       "    }\n",
       "\n",
       "    .dataframe thead th {\n",
       "        text-align: right;\n",
       "    }\n",
       "</style>\n",
       "<table border=\"1\" class=\"dataframe\">\n",
       "  <thead>\n",
       "    <tr style=\"text-align: right;\">\n",
       "      <th></th>\n",
       "      <th>Unnamed: 0</th>\n",
       "      <th>日期</th>\n",
       "      <th>股票代码_x</th>\n",
       "      <th>开盘</th>\n",
       "      <th>收盘</th>\n",
       "      <th>最高</th>\n",
       "      <th>最低</th>\n",
       "      <th>成交量</th>\n",
       "      <th>成交额</th>\n",
       "      <th>振幅</th>\n",
       "      <th>...</th>\n",
       "      <th>资产-应收账款</th>\n",
       "      <th>资产-存货</th>\n",
       "      <th>资产-总资产</th>\n",
       "      <th>资产-总资产同比</th>\n",
       "      <th>负债-应付账款</th>\n",
       "      <th>负债-预收账款</th>\n",
       "      <th>负债-总负债</th>\n",
       "      <th>负债-总负债同比</th>\n",
       "      <th>资产负债率</th>\n",
       "      <th>股东权益合计</th>\n",
       "    </tr>\n",
       "  </thead>\n",
       "  <tbody>\n",
       "    <tr>\n",
       "      <th>232</th>\n",
       "      <td>232</td>\n",
       "      <td>2010-01-04</td>\n",
       "      <td>1</td>\n",
       "      <td>24.52</td>\n",
       "      <td>23.71</td>\n",
       "      <td>24.58</td>\n",
       "      <td>23.68</td>\n",
       "      <td>241923</td>\n",
       "      <td>580249472.0</td>\n",
       "      <td>3.69</td>\n",
       "      <td>...</td>\n",
       "      <td>NaN</td>\n",
       "      <td>NaN</td>\n",
       "      <td>NaN</td>\n",
       "      <td>NaN</td>\n",
       "      <td>NaN</td>\n",
       "      <td>NaN</td>\n",
       "      <td>NaN</td>\n",
       "      <td>NaN</td>\n",
       "      <td>NaN</td>\n",
       "      <td>NaN</td>\n",
       "    </tr>\n",
       "  </tbody>\n",
       "</table>\n",
       "<p>1 rows × 55 columns</p>\n",
       "</div>"
      ],
      "text/plain": [
       "     Unnamed: 0          日期  股票代码_x     开盘     收盘     最高     最低     成交量  \\\n",
       "232         232  2010-01-04       1  24.52  23.71  24.58  23.68  241923   \n",
       "\n",
       "             成交额    振幅  ...  资产-应收账款  资产-存货  资产-总资产  资产-总资产同比 负债-应付账款  \\\n",
       "232  580249472.0  3.69  ...      NaN    NaN     NaN       NaN     NaN   \n",
       "\n",
       "     负债-预收账款  负债-总负债  负债-总负债同比  资产负债率  股东权益合计  \n",
       "232      NaN     NaN       NaN    NaN     NaN  \n",
       "\n",
       "[1 rows x 55 columns]"
      ]
     },
     "execution_count": 27,
     "metadata": {},
     "output_type": "execute_result"
    }
   ],
   "source": [
    "data = pd.read_csv('data_merged/000001.csv')\n",
    "# 日期为2010-01-04的数据\n",
    "data[data['日期'] == '2010-01-04']"
   ]
  },
  {
   "cell_type": "code",
   "execution_count": 28,
   "metadata": {},
   "outputs": [
    {
     "data": {
      "text/html": [
       "<div>\n",
       "<style scoped>\n",
       "    .dataframe tbody tr th:only-of-type {\n",
       "        vertical-align: middle;\n",
       "    }\n",
       "\n",
       "    .dataframe tbody tr th {\n",
       "        vertical-align: top;\n",
       "    }\n",
       "\n",
       "    .dataframe thead th {\n",
       "        text-align: right;\n",
       "    }\n",
       "</style>\n",
       "<table border=\"1\" class=\"dataframe\">\n",
       "  <thead>\n",
       "    <tr style=\"text-align: right;\">\n",
       "      <th></th>\n",
       "      <th>xuhao</th>\n",
       "      <th>日期</th>\n",
       "      <th>无风险利率</th>\n",
       "      <th>涨跌</th>\n",
       "    </tr>\n",
       "  </thead>\n",
       "  <tbody>\n",
       "    <tr>\n",
       "      <th>813</th>\n",
       "      <td>813</td>\n",
       "      <td>2010-01-04</td>\n",
       "      <td>1.1175</td>\n",
       "      <td>-2.92</td>\n",
       "    </tr>\n",
       "  </tbody>\n",
       "</table>\n",
       "</div>"
      ],
      "text/plain": [
       "     xuhao          日期   无风险利率    涨跌\n",
       "813    813  2010-01-04  1.1175 -2.92"
      ]
     },
     "execution_count": 28,
     "metadata": {},
     "output_type": "execute_result"
    }
   ],
   "source": [
    "rf_data = pd.read_csv('index/Shibor_Overnight.csv')\n",
    "# 日期为2010-01-04的数据\n",
    "rf_data[rf_data['日期'] == '2010-01-04']"
   ]
  },
  {
   "cell_type": "code",
   "execution_count": 29,
   "metadata": {},
   "outputs": [
    {
     "data": {
      "text/html": [
       "<div>\n",
       "<style scoped>\n",
       "    .dataframe tbody tr th:only-of-type {\n",
       "        vertical-align: middle;\n",
       "    }\n",
       "\n",
       "    .dataframe tbody tr th {\n",
       "        vertical-align: top;\n",
       "    }\n",
       "\n",
       "    .dataframe thead th {\n",
       "        text-align: right;\n",
       "    }\n",
       "</style>\n",
       "<table border=\"1\" class=\"dataframe\">\n",
       "  <thead>\n",
       "    <tr style=\"text-align: right;\">\n",
       "      <th></th>\n",
       "      <th>交易所标识_Exchflg</th>\n",
       "      <th>市场标识_Mktflg</th>\n",
       "      <th>日期</th>\n",
       "      <th>市场溢酬因子__流通市值加权_Rmrf_tmv</th>\n",
       "      <th>市值因子__流通市值加权_Smb_tmv</th>\n",
       "      <th>账面市值比因子__流通市值加权_Hml_tmv</th>\n",
       "      <th>市场溢酬因子__总市值加权_Rmrf_mc</th>\n",
       "      <th>市值因子__总市值加权_Smb_mc</th>\n",
       "      <th>账面市值比因子__总市值加权_Hml_mc</th>\n",
       "    </tr>\n",
       "  </thead>\n",
       "  <tbody>\n",
       "    <tr>\n",
       "      <th>244</th>\n",
       "      <td>0</td>\n",
       "      <td>A</td>\n",
       "      <td>2010-01-04</td>\n",
       "      <td>-0.0076</td>\n",
       "      <td>0.0114</td>\n",
       "      <td>-0.0033</td>\n",
       "      <td>-0.0084</td>\n",
       "      <td>0.0113</td>\n",
       "      <td>-0.0002</td>\n",
       "    </tr>\n",
       "    <tr>\n",
       "      <th>4070</th>\n",
       "      <td>1</td>\n",
       "      <td>A</td>\n",
       "      <td>2010-01-04</td>\n",
       "      <td>-0.0092</td>\n",
       "      <td>0.0125</td>\n",
       "      <td>-0.0037</td>\n",
       "      <td>-0.0103</td>\n",
       "      <td>0.0128</td>\n",
       "      <td>-0.0006</td>\n",
       "    </tr>\n",
       "    <tr>\n",
       "      <th>7896</th>\n",
       "      <td>2</td>\n",
       "      <td>A</td>\n",
       "      <td>2010-01-04</td>\n",
       "      <td>-0.0025</td>\n",
       "      <td>0.0095</td>\n",
       "      <td>-0.0019</td>\n",
       "      <td>-0.0021</td>\n",
       "      <td>0.0110</td>\n",
       "      <td>0.0000</td>\n",
       "    </tr>\n",
       "  </tbody>\n",
       "</table>\n",
       "</div>"
      ],
      "text/plain": [
       "      交易所标识_Exchflg 市场标识_Mktflg          日期  市场溢酬因子__流通市值加权_Rmrf_tmv  \\\n",
       "244               0           A  2010-01-04                  -0.0076   \n",
       "4070              1           A  2010-01-04                  -0.0092   \n",
       "7896              2           A  2010-01-04                  -0.0025   \n",
       "\n",
       "      市值因子__流通市值加权_Smb_tmv  账面市值比因子__流通市值加权_Hml_tmv  市场溢酬因子__总市值加权_Rmrf_mc  \\\n",
       "244                 0.0114                  -0.0033                -0.0084   \n",
       "4070                0.0125                  -0.0037                -0.0103   \n",
       "7896                0.0095                  -0.0019                -0.0021   \n",
       "\n",
       "      市值因子__总市值加权_Smb_mc  账面市值比因子__总市值加权_Hml_mc  \n",
       "244               0.0113                -0.0002  \n",
       "4070              0.0128                -0.0006  \n",
       "7896              0.0110                 0.0000  "
      ]
     },
     "execution_count": 29,
     "metadata": {},
     "output_type": "execute_result"
    }
   ],
   "source": [
    "fama_data = pd.read_csv('index/Fama_French.csv')\n",
    "# 日期为2010-01-04的数据\n",
    "fama_data[fama_data['日期'] == '2010-01-04']"
   ]
  }
 ],
 "metadata": {
  "kernelspec": {
   "display_name": "base",
   "language": "python",
   "name": "python3"
  },
  "language_info": {
   "codemirror_mode": {
    "name": "ipython",
    "version": 3
   },
   "file_extension": ".py",
   "mimetype": "text/x-python",
   "name": "python",
   "nbconvert_exporter": "python",
   "pygments_lexer": "ipython3",
   "version": "3.12.4"
  }
 },
 "nbformat": 4,
 "nbformat_minor": 2
}
