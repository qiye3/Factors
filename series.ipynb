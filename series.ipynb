{
 "cells": [
  {
   "cell_type": "markdown",
   "metadata": {},
   "source": [
    "## 截面回归：选择变量"
   ]
  },
  {
   "cell_type": "code",
   "execution_count": 3,
   "metadata": {},
   "outputs": [],
   "source": [
    "import pandas as pd\n",
    "import numpy as np\n",
    "from sklearn.linear_model import LinearRegression\n",
    "from utils import *\n",
    "import os\n",
    "import joblib"
   ]
  },
  {
   "cell_type": "code",
   "execution_count": 4,
   "metadata": {},
   "outputs": [],
   "source": [
    "start_date = '2012-04-30'\n",
    "end_date = '2018-04-30'"
   ]
  },
  {
   "cell_type": "code",
   "execution_count": 5,
   "metadata": {},
   "outputs": [],
   "source": [
    "df_all = pd.read_csv('data/df_all.csv', dtype={'asset': str})\n",
    "df_all['date'] = pd.to_datetime(df_all['date'])\n",
    "\n",
    "# df_all = df_all[(df_all['date'] >= start_date) & (df_all['date'] <= end_date)]\n",
    "\n",
    "df_all.drop(['Unnamed: 0', 'Rmrf', 'Smb', 'Hml'], axis=1, inplace=True)\n",
    "df_all_pivot = df_all.pivot(index='date', columns='asset')"
   ]
  },
  {
   "cell_type": "code",
   "execution_count": 6,
   "metadata": {},
   "outputs": [
    {
     "data": {
      "text/plain": [
       "DatetimeIndex(['2011-05-03', '2011-05-04', '2011-05-05', '2011-05-06',\n",
       "               '2011-05-09', '2011-05-10', '2011-05-11', '2011-05-12',\n",
       "               '2011-05-13', '2011-05-16',\n",
       "               ...\n",
       "               '2023-04-17', '2023-04-18', '2023-04-19', '2023-04-20',\n",
       "               '2023-04-21', '2023-04-24', '2023-04-25', '2023-04-26',\n",
       "               '2023-04-27', '2023-04-28'],\n",
       "              dtype='datetime64[ns]', name='date', length=2918, freq=None)"
      ]
     },
     "execution_count": 6,
     "metadata": {},
     "output_type": "execute_result"
    }
   ],
   "source": [
    "returns = pd.read_csv('data/returns.csv', index_col=0)\n",
    "returns.index = pd.to_datetime(returns.index)\n",
    "all_time_index = returns.index\n",
    "all_time_index"
   ]
  },
  {
   "cell_type": "code",
   "execution_count": 7,
   "metadata": {},
   "outputs": [],
   "source": [
    "returns.columns\n",
    "assets = returns.columns"
   ]
  },
  {
   "cell_type": "code",
   "execution_count": 8,
   "metadata": {},
   "outputs": [],
   "source": [
    "# 从因子数据中读取因子\n",
    "alphaset = 'ourAlphas'\n",
    "subset = '20110430'\n",
    "\n",
    "from MyBacktrader import get_alpha_list\n",
    "\n",
    "alpha_names = get_alpha_list(f'alphas/{alphaset}/{subset}')\n",
    "# alpha_names = ['alpha_financial_health']\n",
    "\n",
    "for alpha_name in alpha_names:\n",
    "    alpha = pd.read_csv('alphas/{}/{}/{}.csv'.format(alphaset, subset, alpha_name))\n",
    "    \n",
    "    # 从因子数据中读取因子\n",
    "    alpha = alpha.set_index('date')\n",
    "    alpha.index = pd.to_datetime(alpha.index)\n",
    "    \n",
    "    # alpha = alpha[(alpha.index >= start_date) & (alpha.index <= end_date)]\n",
    "\n",
    "    # 给 alpha 添加双重索引\n",
    "    alpha.columns = pd.MultiIndex.from_product([[f'{alpha_name}'], alpha.columns], names=['', 'asset'])\n",
    "\n",
    "    # 合并 alpha 到 df_all_pivot\n",
    "    df_all_pivot = pd.concat([df_all_pivot, alpha], axis=1)"
   ]
  },
  {
   "cell_type": "code",
   "execution_count": 9,
   "metadata": {},
   "outputs": [
    {
     "name": "stdout",
     "output_type": "stream",
     "text": [
      "已经有的因子：\n",
      "Index(['open', 'close', 'high', 'low', 'volume', 'amount', 'vwap', 'pctChg',\n",
      "       'turnover', 'benchmark_open', 'benchmark_close', 'benchmark_high',\n",
      "       'benchmark_low', 'benchmark_vol', 'roe', 'roa', 'cvd', 'epq', 'emq',\n",
      "       'sgq', 'alaq', 'pmq', 'cta', 'size', 'rf', 'bm', 'ep', 'alpha001',\n",
      "       'alpha_ALAQ', 'alpha_bm', 'alpha_CH3', 'alpha_CH3_Size',\n",
      "       'alpha_CH3_Value', 'alpha_CTA', 'alpha_CVD', 'alpha_EMQ', 'alpha_EP',\n",
      "       'alpha_EPQ', 'alpha_Fama_French', 'alpha_financial_health',\n",
      "       'alpha_High_Low', 'alpha_Hml', 'alpha_liquidity', 'alpha_market_alpha',\n",
      "       'alpha_momentum', 'alpha_momentum_60', 'alpha_multi', 'alpha_PMQ',\n",
      "       'alpha_PMQ_momentum', 'alpha_Price_VWAP', 'alpha_reversal',\n",
      "       'alpha_Rmrf', 'alpha_ROA_momentum', 'alpha_ROE', 'alpha_ROE_ROA',\n",
      "       'alpha_rsi', 'alpha_sentiment', 'alpha_SGQ', 'alpha_SGQ_volatility',\n",
      "       'alpha_size', 'alpha_Smb', 'alpha_trade_density', 'alpha_turnover',\n",
      "       'alpha_turnover_10', 'alpha_turnover_month', 'alpha_Volume_Close',\n",
      "       'alpha_vol_skew'],\n",
      "      dtype='object')\n"
     ]
    }
   ],
   "source": [
    "print(\"已经有的因子：\")\n",
    "print(df_all_pivot.columns.get_level_values(0).unique())"
   ]
  },
  {
   "cell_type": "code",
   "execution_count": 10,
   "metadata": {},
   "outputs": [
    {
     "data": {
      "text/plain": [
       "Index(['alpha001', 'alpha_ALAQ', 'alpha_bm', 'alpha_CH3_Size',\n",
       "       'alpha_CH3_Value', 'alpha_CTA', 'alpha_CVD', 'alpha_EMQ', 'alpha_EP',\n",
       "       'alpha_EPQ', 'alpha_financial_health', 'alpha_High_Low',\n",
       "       'alpha_liquidity', 'alpha_market_alpha', 'alpha_momentum',\n",
       "       'alpha_momentum_60', 'alpha_multi', 'alpha_PMQ', 'alpha_PMQ_momentum',\n",
       "       'alpha_Price_VWAP', 'alpha_reversal', 'alpha_Rmrf',\n",
       "       'alpha_ROA_momentum', 'alpha_ROE', 'alpha_ROE_ROA', 'alpha_rsi',\n",
       "       'alpha_sentiment', 'alpha_SGQ', 'alpha_SGQ_volatility', 'alpha_size',\n",
       "       'alpha_trade_density', 'alpha_turnover', 'alpha_turnover_10',\n",
       "       'alpha_turnover_month', 'alpha_Volume_Close', 'alpha_vol_skew'],\n",
       "      dtype='object')"
      ]
     },
     "execution_count": 10,
     "metadata": {},
     "output_type": "execute_result"
    }
   ],
   "source": [
    "Y = returns - df_all_pivot['rf'].values\n",
    "# print(Y.head())\n",
    "\n",
    "# 截取时间段\n",
    "Y = Y[(Y.index >= start_date) & (Y.index <= end_date)]\n",
    "\n",
    "X = df_all_pivot.drop(['rf', 'alpha_Fama_French', 'open', 'close', 'high', 'low', 'volume', 'amount', 'pctChg', 'cta', 'roe','vwap', 'pctChg',\n",
    "       'turnover', 'benchmark_open', 'benchmark_close', 'benchmark_high',\n",
    "       'benchmark_low', 'benchmark_vol', 'roe', 'roa', 'cvd', 'epq', 'emq',\n",
    "       'sgq', 'alaq', 'pmq', 'cta', 'size', 'rf', 'bm', 'ep', 'alpha_CH3', 'alpha_Smb', 'alpha_Hml'], axis=1, level=0)\n",
    "\n",
    "X = X[(X.index >= start_date) & (X.index <= end_date)]\n",
    "\n",
    "X.columns.get_level_values(0).unique()"
   ]
  },
  {
   "cell_type": "code",
   "execution_count": 11,
   "metadata": {},
   "outputs": [
    {
     "data": {
      "text/plain": [
       "MultiIndex([(      'alpha001', '000001'),\n",
       "            (      'alpha001', '000002'),\n",
       "            (      'alpha001', '000009'),\n",
       "            (      'alpha001', '000012'),\n",
       "            (      'alpha001', '000021'),\n",
       "            (      'alpha001', '000027'),\n",
       "            (      'alpha001', '000031'),\n",
       "            (      'alpha001', '000039'),\n",
       "            (      'alpha001', '000046'),\n",
       "            (      'alpha001', '000059'),\n",
       "            ...\n",
       "            ('alpha_vol_skew', '601898'),\n",
       "            ('alpha_vol_skew', '601899'),\n",
       "            ('alpha_vol_skew', '601918'),\n",
       "            ('alpha_vol_skew', '601919'),\n",
       "            ('alpha_vol_skew', '601939'),\n",
       "            ('alpha_vol_skew', '601958'),\n",
       "            ('alpha_vol_skew', '601988'),\n",
       "            ('alpha_vol_skew', '601989'),\n",
       "            ('alpha_vol_skew', '601991'),\n",
       "            ('alpha_vol_skew', '601998')],\n",
       "           names=[None, 'asset'], length=10368)"
      ]
     },
     "execution_count": 11,
     "metadata": {},
     "output_type": "execute_result"
    }
   ],
   "source": [
    "X.columns"
   ]
  },
  {
   "cell_type": "markdown",
   "metadata": {},
   "source": [
    "## 通过横截面回归（逐步回归）选择变量"
   ]
  },
  {
   "cell_type": "code",
   "execution_count": 12,
   "metadata": {},
   "outputs": [
    {
     "data": {
      "text/plain": [
       "np.int64(15180)"
      ]
     },
     "execution_count": 12,
     "metadata": {},
     "output_type": "execute_result"
    }
   ],
   "source": [
    "# 检查Y是否有缺失值\n",
    "Y.isnull().sum().sum()"
   ]
  },
  {
   "cell_type": "code",
   "execution_count": 15,
   "metadata": {},
   "outputs": [],
   "source": [
    "# 逐步回归函数\n",
    "def stepwise_regression(y, X, direction='both', threshold_in=0.05, threshold_out=0.10):\n",
    "    \"\"\"\n",
    "    逐步回归方法，进行特征选择，返回最优模型以及选择的特征\n",
    "    \"\"\"\n",
    "    initial_vars = X.columns.tolist()\n",
    "    best_aic = float('inf')\n",
    "    best_model = None\n",
    "    remaining_vars = initial_vars.copy()\n",
    "    selected_vars = []\n",
    "\n",
    "    while True:\n",
    "        changed = False\n",
    "        \n",
    "        # print(\"selected_vars: \", selected_vars)\n",
    "\n",
    "        if direction in ['both', 'forward']:  # 前向选择\n",
    "            for var in remaining_vars:\n",
    "                model = sm.OLS(y, sm.add_constant(X[selected_vars + [var]])).fit()\n",
    "                aic = model.aic\n",
    "                print(f'forward: {var}, aic: {aic}')\n",
    "                \n",
    "                if aic < best_aic:\n",
    "                    best_aic = aic\n",
    "                    best_model = model\n",
    "                    best_var = var\n",
    "                    changed = True\n",
    "\n",
    "            if changed:\n",
    "                selected_vars.append(best_var)\n",
    "                remaining_vars.remove(best_var)\n",
    "\n",
    "        if direction in ['both', 'backward']:  # 后向剔除\n",
    "            for var in selected_vars:\n",
    "                temp_selected_vars = selected_vars.copy()\n",
    "                temp_selected_vars.remove(var)\n",
    "                model = sm.OLS(y, sm.add_constant(X[temp_selected_vars])).fit()\n",
    "                aic = model.aic\n",
    "                if aic < best_aic:\n",
    "                    best_aic = aic\n",
    "                    best_model = model\n",
    "                    best_var = var\n",
    "                    changed = True\n",
    "\n",
    "            if changed:\n",
    "                selected_vars.remove(best_var)\n",
    "\n",
    "        if not changed:\n",
    "            break\n",
    "\n",
    "    return best_model, selected_vars"
   ]
  },
  {
   "cell_type": "code",
   "execution_count": 18,
   "metadata": {},
   "outputs": [
    {
     "name": "stderr",
     "output_type": "stream",
     "text": [
      "100%|██████████| 1460/1460 [00:21<00:00, 69.40it/s]\n"
     ]
    }
   ],
   "source": [
    "# 初始化存储因子的字典\n",
    "selected_factors = {}\n",
    "\n",
    "# 遍历每个时间点\n",
    "for time_point in tqdm(X.index):\n",
    "    # 提取当前时间点的 X 和 Y\n",
    "    X_time = X.loc[time_point].unstack(level=0)  # 转换为因子为列，股票为行的 DataFrame\n",
    "    Y_time = Y.loc[time_point]\n",
    "\n",
    "    # 清理缺失值\n",
    "    X_time = X_time.dropna()\n",
    "    Y_time = Y_time.loc[X_time.index].dropna()\n",
    "    X_time = X_time.loc[Y_time.index]\n",
    "\n",
    "    # 执行逐步回归\n",
    "    if not X_time.empty and not Y_time.empty:  # 确保数据非空\n",
    "        # model, selected_vars = stepwise_regression(Y_time, X_time)\n",
    "        # selected_factors[time_point] = selected_vars\n",
    "        \n",
    "        # print(f'{time_point} 选择的因子：{selected_vars}')\n",
    "        \n",
    "        model = sm.OLS(Y_time, sm.add_constant(X_time)).fit()\n",
    "        \n",
    "        # 如果路径不存在，创建路径\n",
    "        if not os.path.exists('models/cut'):\n",
    "            os.makedirs('models/cut')\n",
    "        \n",
    "        # 保存模型\n",
    "        time = time_point.strftime('%Y-%m-%d')\n",
    "        joblib.dump(model, f'models/cut/{time}.pkl')\n",
    "    else:\n",
    "        selected_factors[time_point] = []\n",
    "\n",
    "# 将选择的因子保存为 DataFrame\n",
    "selected_factors_df = pd.DataFrame.from_dict(selected_factors, orient='index')\n",
    "selected_factors_df.index = pd.to_datetime(selected_factors_df.index)  # 确保时间格式正确\n",
    "# selected_factors_df.to_csv('selected_factors.csv')"
   ]
  },
  {
   "cell_type": "code",
   "execution_count": null,
   "metadata": {},
   "outputs": [],
   "source": []
  }
 ],
 "metadata": {
  "kernelspec": {
   "display_name": "py310",
   "language": "python",
   "name": "python3"
  },
  "language_info": {
   "codemirror_mode": {
    "name": "ipython",
    "version": 3
   },
   "file_extension": ".py",
   "mimetype": "text/x-python",
   "name": "python",
   "nbconvert_exporter": "python",
   "pygments_lexer": "ipython3",
   "version": "3.10.15"
  }
 },
 "nbformat": 4,
 "nbformat_minor": 2
}
