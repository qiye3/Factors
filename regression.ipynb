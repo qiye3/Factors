{
 "cells": [
  {
   "cell_type": "markdown",
   "metadata": {},
   "source": [
    "## 多因子模型"
   ]
  },
  {
   "cell_type": "code",
   "execution_count": 12,
   "metadata": {},
   "outputs": [],
   "source": [
    "import pandas as pd\n",
    "import numpy as np\n",
    "from sklearn.linear_model import LinearRegression\n",
    "from utils import *\n",
    "import os\n",
    "import joblib"
   ]
  },
  {
   "cell_type": "code",
   "execution_count": 13,
   "metadata": {},
   "outputs": [],
   "source": [
    "def mse1(y_true, y_pred):\n",
    "    if(y_true is None or y_pred is None):\n",
    "        return 0\n",
    "    \n",
    "    return np.mean((y_true - y_pred)**2)"
   ]
  },
  {
   "cell_type": "code",
   "execution_count": 14,
   "metadata": {},
   "outputs": [],
   "source": [
    "start_date = '2011-04-30'\n",
    "end_date = '2018-04-30'"
   ]
  },
  {
   "cell_type": "code",
   "execution_count": 15,
   "metadata": {},
   "outputs": [],
   "source": [
    "df_all = pd.read_csv('data/df_all.csv', dtype={'asset': str})\n",
    "df_all['date'] = pd.to_datetime(df_all['date'])\n",
    "\n",
    "# df_all = df_all[(df_all['date'] >= start_date) & (df_all['date'] <= end_date)]\n",
    "\n",
    "df_all.drop(['Unnamed: 0', 'Rmrf', 'Smb', 'Hml'], axis=1, inplace=True)\n",
    "df_all_pivot = df_all.pivot(index='date', columns='asset')"
   ]
  },
  {
   "cell_type": "code",
   "execution_count": 16,
   "metadata": {},
   "outputs": [
    {
     "data": {
      "text/plain": [
       "MultiIndex([('open', '000001'),\n",
       "            ('open', '000002'),\n",
       "            ('open', '000009'),\n",
       "            ('open', '000012'),\n",
       "            ('open', '000021'),\n",
       "            ('open', '000027'),\n",
       "            ('open', '000031'),\n",
       "            ('open', '000039'),\n",
       "            ('open', '000046'),\n",
       "            ('open', '000059'),\n",
       "            ...\n",
       "            (  'ep', '601898'),\n",
       "            (  'ep', '601899'),\n",
       "            (  'ep', '601918'),\n",
       "            (  'ep', '601919'),\n",
       "            (  'ep', '601939'),\n",
       "            (  'ep', '601958'),\n",
       "            (  'ep', '601988'),\n",
       "            (  'ep', '601989'),\n",
       "            (  'ep', '601991'),\n",
       "            (  'ep', '601998')],\n",
       "           names=[None, 'asset'], length=7776)"
      ]
     },
     "execution_count": 16,
     "metadata": {},
     "output_type": "execute_result"
    }
   ],
   "source": [
    "df_all_pivot.columns"
   ]
  },
  {
   "cell_type": "code",
   "execution_count": 17,
   "metadata": {},
   "outputs": [
    {
     "name": "stdout",
     "output_type": "stream",
     "text": [
      "已经有的因子：\n"
     ]
    },
    {
     "data": {
      "text/plain": [
       "Index(['asset', 'date', 'open', 'close', 'high', 'low', 'volume', 'amount',\n",
       "       'vwap', 'pctChg', 'turnover', 'benchmark_open', 'benchmark_close',\n",
       "       'benchmark_high', 'benchmark_low', 'benchmark_vol', 'roe', 'roa', 'cvd',\n",
       "       'epq', 'emq', 'sgq', 'alaq', 'pmq', 'cta', 'size', 'rf', 'bm', 'ep'],\n",
       "      dtype='object')"
      ]
     },
     "execution_count": 17,
     "metadata": {},
     "output_type": "execute_result"
    }
   ],
   "source": [
    "print(\"已经有的因子：\")\n",
    "df_all.columns"
   ]
  },
  {
   "cell_type": "code",
   "execution_count": 18,
   "metadata": {},
   "outputs": [
    {
     "data": {
      "text/plain": [
       "DatetimeIndex(['2011-05-03', '2011-05-04', '2011-05-05', '2011-05-06',\n",
       "               '2011-05-09', '2011-05-10', '2011-05-11', '2011-05-12',\n",
       "               '2011-05-13', '2011-05-16',\n",
       "               ...\n",
       "               '2023-04-17', '2023-04-18', '2023-04-19', '2023-04-20',\n",
       "               '2023-04-21', '2023-04-24', '2023-04-25', '2023-04-26',\n",
       "               '2023-04-27', '2023-04-28'],\n",
       "              dtype='datetime64[ns]', name='date', length=2918, freq=None)"
      ]
     },
     "execution_count": 18,
     "metadata": {},
     "output_type": "execute_result"
    }
   ],
   "source": [
    "returns = pd.read_csv('data/returns.csv', index_col=0)\n",
    "returns.index = pd.to_datetime(returns.index)\n",
    "all_time_index = returns.index\n",
    "all_time_index\n",
    "\n",
    "# returns = returns[(returns.index >= start_date) & (returns.index <= end_date)]\n",
    "\n",
    "# return_copy = returns.copy()\n",
    "# return_copy = return_copy[(return_copy.index >= start_date) & (return_copy.index <= end_date)]\n",
    "\n",
    "# dates = return_copy.index\n",
    "# dates"
   ]
  },
  {
   "cell_type": "code",
   "execution_count": 19,
   "metadata": {},
   "outputs": [],
   "source": [
    "returns.columns\n",
    "assets = returns.columns"
   ]
  },
  {
   "cell_type": "code",
   "execution_count": 20,
   "metadata": {},
   "outputs": [],
   "source": [
    "# 从因子数据中读取因子\n",
    "alphaset = 'ourAlphas'\n",
    "subset = '20110430'\n",
    "\n",
    "from MyBacktrader import get_alpha_list\n",
    "\n",
    "alpha_names = get_alpha_list(f'alphas/{alphaset}/{subset}')\n",
    "# alpha_names = ['alpha_financial_health']\n",
    "\n",
    "for alpha_name in alpha_names:\n",
    "    alpha = pd.read_csv('alphas/{}/{}/{}.csv'.format(alphaset, subset, alpha_name))\n",
    "    \n",
    "    # 从因子数据中读取因子\n",
    "    alpha = alpha.set_index('date')\n",
    "    alpha.index = pd.to_datetime(alpha.index)\n",
    "    \n",
    "    # alpha = alpha[(alpha.index >= start_date) & (alpha.index <= end_date)]\n",
    "\n",
    "    # 给 alpha 添加双重索引\n",
    "    alpha.columns = pd.MultiIndex.from_product([[f'{alpha_name}'], alpha.columns], names=['', 'asset'])\n",
    "\n",
    "    # 合并 alpha 到 df_all_pivot\n",
    "    df_all_pivot = pd.concat([df_all_pivot, alpha], axis=1)\n",
    "\n",
    "    # print(df_combined)\n",
    "    # 合并到df_all_pivot\n",
    "    # df_all_pivot = pd.concat([df_all_pivot, alpha], axis=1)"
   ]
  },
  {
   "cell_type": "code",
   "execution_count": 21,
   "metadata": {},
   "outputs": [
    {
     "name": "stdout",
     "output_type": "stream",
     "text": [
      "已经有的因子：\n",
      "Index(['open', 'close', 'high', 'low', 'volume', 'amount', 'vwap', 'pctChg',\n",
      "       'turnover', 'benchmark_open', 'benchmark_close', 'benchmark_high',\n",
      "       'benchmark_low', 'benchmark_vol', 'roe', 'roa', 'cvd', 'epq', 'emq',\n",
      "       'sgq', 'alaq', 'pmq', 'cta', 'size', 'rf', 'bm', 'ep', 'alpha001',\n",
      "       'alpha_ALAQ', 'alpha_bm', 'alpha_CTA', 'alpha_CVD', 'alpha_EMQ',\n",
      "       'alpha_EP', 'alpha_EPQ', 'alpha_Fama_French', 'alpha_financial_health',\n",
      "       'alpha_High_Low', 'alpha_liquidity', 'alpha_market_alpha',\n",
      "       'alpha_momentum', 'alpha_momentum_60', 'alpha_multi', 'alpha_PMQ',\n",
      "       'alpha_PMQ_momentum', 'alpha_Price_VWAP', 'alpha_reversal',\n",
      "       'alpha_Rmrf', 'alpha_ROA_momentum', 'alpha_ROE', 'alpha_ROE_ROA',\n",
      "       'alpha_rsi', 'alpha_sentiment', 'alpha_SGQ', 'alpha_SGQ_volatility',\n",
      "       'alpha_size', 'alpha_trade_density', 'alpha_turnover',\n",
      "       'alpha_turnover_10', 'alpha_turnover_month', 'alpha_Volume_Close',\n",
      "       'alpha_vol_skew'],\n",
      "      dtype='object')\n"
     ]
    }
   ],
   "source": [
    "print(\"已经有的因子：\")\n",
    "print(df_all_pivot.columns.get_level_values(0).unique())"
   ]
  },
  {
   "cell_type": "markdown",
   "metadata": {},
   "source": [
    "## 三因子：FamaFrench"
   ]
  },
  {
   "cell_type": "code",
   "execution_count": 22,
   "metadata": {},
   "outputs": [
    {
     "name": "stderr",
     "output_type": "stream",
     "text": [
      "100%|██████████| 288/288 [00:01<00:00, 172.51it/s]"
     ]
    },
    {
     "name": "stdout",
     "output_type": "stream",
     "text": [
      "MSE:\n",
      "212.3532906973485\n"
     ]
    },
    {
     "name": "stderr",
     "output_type": "stream",
     "text": [
      "\n"
     ]
    }
   ],
   "source": [
    "Y = returns - df_all_pivot['rf'].values\n",
    "# print(Y.head())\n",
    "\n",
    "# 截取时间段\n",
    "Y = Y[(Y.index >= start_date) & (Y.index <= end_date)]\n",
    "\n",
    "X_fama = df_all_pivot[['alpha_size', 'alpha_bm', 'alpha_Rmrf']]\n",
    "\n",
    "X_fama = X_fama[(X_fama.index >= start_date) & (X_fama.index <= end_date)]\n",
    "\n",
    "X_fama.columns.get_level_values(0).unique()\n",
    "\n",
    "# 提取资产列表（多重索引的第二层）\n",
    "assets = X_fama.columns.get_level_values(1).unique()\n",
    "# assets = ['601939']\n",
    "dates = Y.index\n",
    "\n",
    "# 创建 DataFrame 存储回归结果\n",
    "expected_columns = ['Asset'] + list(X_fama.columns.get_level_values(0).unique()) + ['Intercept']\n",
    "\n",
    "famafrench_models = {}\n",
    "\n",
    "total_mse_famafrench = 0\n",
    "\n",
    "# 对每个资产进行回归\n",
    "for asset in tqdm(assets):\n",
    "    # print(\"asset: \", asset)\n",
    "    # 提取该资产对应的 Y 和 X\n",
    "    y = Y[asset].dropna()\n",
    "    x = X_fama.xs(asset, axis=1, level=1).reindex(y.index)  # 确保时间对齐\n",
    "\n",
    "    # 添加常数项\n",
    "    x = sm.add_constant(x)\n",
    "\n",
    "    # 找出缺失的列\n",
    "    missing_columns = [col for col in expected_columns if col not in x.columns and col != 'Asset']\n",
    "    \n",
    "    # 手动补充缺失列\n",
    "    for col in missing_columns:\n",
    "        x[col] = 0\n",
    "\n",
    "    # 确保列顺序一致\n",
    "    x = x[expected_columns[1:]]  # 排除 'Asset'，其余列按 expected_columns 的顺序排列\n",
    "    \n",
    "    # 回归分析\n",
    "    model = sm.OLS(y, x).fit()\n",
    "    \n",
    "    pred = model.predict(x)\n",
    "    \n",
    "    # 计算 MSE\n",
    "    mse_val = mse1(y, pred)\n",
    "    \n",
    "    total_mse_famafrench += mse_val\n",
    "    \n",
    "    # 保存回归模型\n",
    "    famafrench_models[asset] = model\n",
    "    \n",
    "    # 如果路径不存在，创建路径\n",
    "    if not os.path.exists('models/famafrench_models'):\n",
    "        os.makedirs('models/famafrench_models')\n",
    "    \n",
    "    joblib.dump(model, f'models/famafrench_models/{asset}.pkl')\n",
    "\n",
    "    # # 回归分析\n",
    "    # model = sm.OLS(y, x).fit()\n",
    "    \n",
    "    # pred = model.predict(x)\n",
    "    # regression_preds[asset] = pred\n",
    "\n",
    "    # # 计算 MSE\n",
    "    # mse_val = mse1(y, pred)\n",
    "    # total_mse_regression += mse_val\n",
    "\n",
    "    # # 记录回归结果\n",
    "    # result = [asset] + list(model.params.reindex(expected_columns[1:]).fillna(0).values)\n",
    "    \n",
    "    # # 保存回归模型\n",
    "    # regression_models[asset] = model\n",
    "\n",
    "    # 检查 result 的长度和 regression_betas 的列数\n",
    "    # print(\"result 的长度:\", len(result))\n",
    "    # print(\"regression_betas 的列数:\", len(regression_betas.columns))\n",
    "\n",
    "    # regression_betas.loc[len(regression_betas)] = result\n",
    "    \n",
    "\n",
    "# 设置列名\n",
    "# regression_betas.columns = ['Asset'] + list(X.columns.get_level_values(0).unique()) + ['Intercept']\n",
    "\n",
    "print(\"MSE:\")\n",
    "print(total_mse_famafrench)"
   ]
  },
  {
   "cell_type": "markdown",
   "metadata": {},
   "source": [
    "## 三因子：CH3"
   ]
  },
  {
   "cell_type": "code",
   "execution_count": 24,
   "metadata": {},
   "outputs": [
    {
     "name": "stderr",
     "output_type": "stream",
     "text": [
      "  0%|          | 0/288 [00:00<?, ?it/s]"
     ]
    },
    {
     "name": "stderr",
     "output_type": "stream",
     "text": [
      "100%|██████████| 288/288 [00:01<00:00, 166.48it/s]"
     ]
    },
    {
     "name": "stdout",
     "output_type": "stream",
     "text": [
      "MSE:\n",
      "211.07034109889813\n"
     ]
    },
    {
     "name": "stderr",
     "output_type": "stream",
     "text": [
      "\n"
     ]
    }
   ],
   "source": [
    "Y = returns - df_all_pivot['rf'].values\n",
    "# print(Y.head())\n",
    "\n",
    "# 截取时间段\n",
    "Y = Y[(Y.index >= start_date) & (Y.index <= end_date)]\n",
    "\n",
    "X_ch3 = df_all_pivot[['alpha_size', 'alpha_EP', 'alpha_turnover', 'alpha_Rmrf']]\n",
    "\n",
    "X_ch3 = X_ch3[(X_ch3.index >= start_date) & (X_ch3.index <= end_date)]\n",
    "\n",
    "X_ch3.columns.get_level_values(0).unique()\n",
    "\n",
    "# 提取资产列表（多重索引的第二层）\n",
    "assets = X_ch3.columns.get_level_values(1).unique()\n",
    "# assets = ['601939']\n",
    "dates = Y.index\n",
    "\n",
    "# 创建 DataFrame 存储回归结果\n",
    "expected_columns = ['Asset'] + list(X_ch3.columns.get_level_values(0).unique()) + ['Intercept']\n",
    "\n",
    "ch3_models = {}\n",
    "\n",
    "total_mse_ch3 = 0\n",
    "\n",
    "# 对每个资产进行回归\n",
    "for asset in tqdm(assets):\n",
    "    # print(\"asset: \", asset)\n",
    "    # 提取该资产对应的 Y 和 X\n",
    "    y = Y[asset].dropna()\n",
    "    x = X_ch3.xs(asset, axis=1, level=1).reindex(y.index)  # 确保时间对齐\n",
    "\n",
    "    # 添加常数项\n",
    "    x = sm.add_constant(x)\n",
    "\n",
    "    # 找出缺失的列\n",
    "    missing_columns = [col for col in expected_columns if col not in x.columns and col != 'Asset']\n",
    "    \n",
    "    # 手动补充缺失列\n",
    "    for col in missing_columns:\n",
    "        x[col] = 0\n",
    "\n",
    "    # 确保列顺序一致\n",
    "    x = x[expected_columns[1:]]  # 排除 'Asset'，其余列按 expected_columns 的顺序排列\n",
    "    \n",
    "    # 回归分析\n",
    "    model = sm.OLS(y, x).fit()\n",
    "    \n",
    "    pred = model.predict(x)\n",
    "    \n",
    "    # 计算 MSE\n",
    "    mse_val = mse1(y, pred)\n",
    "    \n",
    "    total_mse_ch3 += mse_val\n",
    "    \n",
    "    # 保存回归模型\n",
    "    ch3_models[asset] = model\n",
    "    \n",
    "    # 如果路径不存在，创建路径\n",
    "    if not os.path.exists('models/ch3_models'):\n",
    "        os.makedirs('models/ch3_models')\n",
    "    \n",
    "    joblib.dump(model, f'models/ch3_models/{asset}.pkl')\n",
    "\n",
    "    # # 回归分析\n",
    "    # model = sm.OLS(y, x).fit()\n",
    "    \n",
    "    # pred = model.predict(x)\n",
    "    # regression_preds[asset] = pred\n",
    "\n",
    "    # # 计算 MSE\n",
    "    # mse_val = mse1(y, pred)\n",
    "    # total_mse_regression += mse_val\n",
    "\n",
    "    # # 记录回归结果\n",
    "    # result = [asset] + list(model.params.reindex(expected_columns[1:]).fillna(0).values)\n",
    "    \n",
    "    # # 保存回归模型\n",
    "    # regression_models[asset] = model\n",
    "\n",
    "    # 检查 result 的长度和 regression_betas 的列数\n",
    "    # print(\"result 的长度:\", len(result))\n",
    "    # print(\"regression_betas 的列数:\", len(regression_betas.columns))\n",
    "\n",
    "    # regression_betas.loc[len(regression_betas)] = result\n",
    "    \n",
    "\n",
    "# 设置列名\n",
    "# regression_betas.columns = ['Asset'] + list(X.columns.get_level_values(0).unique()) + ['Intercept']\n",
    "\n",
    "print(\"MSE:\")\n",
    "print(total_mse_ch3)"
   ]
  },
  {
   "cell_type": "code",
   "execution_count": 29,
   "metadata": {},
   "outputs": [],
   "source": [
    "# 保存预测结果为因子形式\n",
    "\n",
    "import os\n",
    "from utils import rank\n",
    "\n",
    "def save_to_factors_three(X, model_name = 'ch3'):\n",
    "    results_pred = pd.DataFrame(index=all_time_index, columns=assets)\n",
    "    for asset_id in tqdm(assets):\n",
    "        if(model_name == 'famafrench'):\n",
    "            model = famafrench_models[asset_id]\n",
    "        else:\n",
    "            model = ch3_models[asset_id]\n",
    "            \n",
    "        selected_vars = model.params.index.tolist()\n",
    "        \n",
    "        isIntercept = False\n",
    "        if('Intercept' in selected_vars):\n",
    "                isIntercept = True\n",
    "        isconst = False\n",
    "        if('const' in selected_vars):\n",
    "                isconst = True\n",
    "        \n",
    "        selected_vars = [var for var in selected_vars if var != 'const' and var != 'Intercept']\n",
    "        \n",
    "        # print(model.params)\n",
    "        \n",
    "        # print(model.params.shape)\n",
    "        X2 = X.xs(asset_id, axis=1, level=1)[selected_vars]\n",
    "        \n",
    "        if 'const' not in X2.columns and isconst:\n",
    "                X2 = sm.add_constant(X2)\n",
    "        if isIntercept:\n",
    "                X2['Intercept'] = 1\n",
    "                \n",
    "        # print(X2.columns)\n",
    "        \n",
    "        pred = model.predict(X2)\n",
    "        \n",
    "        pred = pd.Series(pred, index=all_time_index)\n",
    "        \n",
    "        results_pred[asset_id] = pred\n",
    "    \n",
    "    results_pred = rank(results_pred)\n",
    "        \n",
    "    # 如果路径不存在，创建路径\n",
    "    if not os.path.exists('alphas/multialpha'):\n",
    "        os.makedirs('alphas/multialpha')\n",
    "    \n",
    "    results_pred.to_csv(f'alphas/multialpha/20110430/alpha_{model_name}.csv')\n"
   ]
  },
  {
   "cell_type": "code",
   "execution_count": 30,
   "metadata": {},
   "outputs": [
    {
     "name": "stderr",
     "output_type": "stream",
     "text": [
      "100%|██████████| 288/288 [00:00<00:00, 1049.59it/s]\n",
      "100%|██████████| 288/288 [00:00<00:00, 1010.06it/s]\n"
     ]
    }
   ],
   "source": [
    "save_to_factors_three(X_fama, 'famafrench')\n",
    "save_to_factors_three(X_ch3, 'ch3')"
   ]
  },
  {
   "cell_type": "markdown",
   "metadata": {},
   "source": [
    "## 选择因子"
   ]
  },
  {
   "cell_type": "code",
   "execution_count": 10,
   "metadata": {},
   "outputs": [
    {
     "data": {
      "text/plain": [
       "Index(['alpha001', 'alpha_ALAQ', 'alpha_bm', 'alpha_CTA', 'alpha_CVD',\n",
       "       'alpha_EMQ', 'alpha_EPQ', 'alpha_financial_health', 'alpha_High_Low',\n",
       "       'alpha_liquidity', 'alpha_market_alpha', 'alpha_momentum',\n",
       "       'alpha_momentum_60', 'alpha_multi', 'alpha_PMQ', 'alpha_PMQ_momentum',\n",
       "       'alpha_Price_VWAP', 'alpha_reversal', 'alpha_ROA_momentum', 'alpha_ROE',\n",
       "       'alpha_ROE_ROA', 'alpha_rsi', 'alpha_sentiment', 'alpha_SGQ',\n",
       "       'alpha_SGQ_volatility', 'alpha_size', 'alpha_trade_density',\n",
       "       'alpha_turnover', 'alpha_turnover_10', 'alpha_turnover_month',\n",
       "       'alpha_Volume_Close', 'alpha_vol_skew'],\n",
       "      dtype='object')"
      ]
     },
     "execution_count": 10,
     "metadata": {},
     "output_type": "execute_result"
    }
   ],
   "source": [
    "Y = returns - df_all_pivot['rf'].values\n",
    "# print(Y.head())\n",
    "\n",
    "# 截取时间段\n",
    "Y = Y[(Y.index >= start_date) & (Y.index <= end_date)]\n",
    "\n",
    "X = df_all_pivot.drop(['rf', 'alpha_Fama_French', 'open', 'close', 'high', 'low', 'volume', 'amount', 'pctChg', 'cta', 'roe','vwap', 'pctChg',\n",
    "       'turnover', 'benchmark_open', 'benchmark_close', 'benchmark_high',\n",
    "       'benchmark_low', 'benchmark_vol', 'roe', 'roa', 'cvd', 'epq', 'emq',\n",
    "       'sgq', 'alaq', 'pmq', 'cta', 'size', 'rf', 'bm'], axis=1, level=0)\n",
    "\n",
    "X = X[(X.index >= start_date) & (X.index <= end_date)]\n",
    "\n",
    "X.columns.get_level_values(0).unique()"
   ]
  },
  {
   "cell_type": "code",
   "execution_count": 11,
   "metadata": {},
   "outputs": [
    {
     "data": {
      "text/plain": [
       "DatetimeIndex(['2011-05-03', '2011-05-04', '2011-05-05', '2011-05-06',\n",
       "               '2011-05-09', '2011-05-10', '2011-05-11', '2011-05-12',\n",
       "               '2011-05-13', '2011-05-16',\n",
       "               ...\n",
       "               '2018-04-16', '2018-04-17', '2018-04-18', '2018-04-19',\n",
       "               '2018-04-20', '2018-04-23', '2018-04-24', '2018-04-25',\n",
       "               '2018-04-26', '2018-04-27'],\n",
       "              dtype='datetime64[ns]', name='date', length=1702, freq=None)"
      ]
     },
     "execution_count": 11,
     "metadata": {},
     "output_type": "execute_result"
    }
   ],
   "source": [
    "X.index"
   ]
  },
  {
   "cell_type": "markdown",
   "metadata": {},
   "source": [
    "## 逐步回归"
   ]
  },
  {
   "cell_type": "code",
   "execution_count": 13,
   "metadata": {},
   "outputs": [],
   "source": [
    "def stepwise_regression(y, X, direction='both', threshold_in=0.05, threshold_out=0.10):\n",
    "    \"\"\"\n",
    "    逐步回归方法，进行特征选择，返回最优模型以及选择的特征\n",
    "    :param y: 目标变量（依赖变量）\n",
    "    :param X: 特征变量（自变量）\n",
    "    :param direction: 选择方法：'forward'、'backward' 或 'both'\n",
    "    :param threshold_in: 进入模型的显著性水平\n",
    "    :param threshold_out: 离开模型的显著性水平\n",
    "    :return: 最优模型以及选择的特征\n",
    "    \"\"\"\n",
    "    initial_vars = X.columns.tolist()\n",
    "    best_aic = float('inf')\n",
    "    best_model = None\n",
    "    remaining_vars = initial_vars.copy()\n",
    "    selected_vars = []\n",
    "\n",
    "    while True:\n",
    "        changed = False\n",
    "        \n",
    "        if direction in ['both', 'forward']:  # 前向选择\n",
    "            # 遍历所有未进入模型的变量\n",
    "            for var in remaining_vars:\n",
    "                model = sm.OLS(y, sm.add_constant(X[selected_vars + [var]])).fit()\n",
    "                aic = model.aic\n",
    "                # 仅当 AIC 更低时才加入该变量\n",
    "                if aic < best_aic:\n",
    "                    best_aic = aic\n",
    "                    best_model = model\n",
    "                    best_var = var\n",
    "                    changed = True\n",
    "                    selected_vars.append(best_var)\n",
    "                    remaining_vars.remove(best_var)\n",
    "                    break  # 只选择一个变量后继续向前\n",
    "\n",
    "        if direction in ['both', 'backward']:  # 后向剔除\n",
    "            # 遍历所有已进入模型的变量\n",
    "            for var in selected_vars:\n",
    "                temp_selected_vars = selected_vars.copy()\n",
    "                temp_selected_vars.remove(var)\n",
    "                model = sm.OLS(y, sm.add_constant(X[temp_selected_vars])).fit()\n",
    "                aic = model.aic\n",
    "                # 仅当 AIC 更低时才剔除该变量\n",
    "                if aic < best_aic:\n",
    "                    best_aic = aic\n",
    "                    best_model = model\n",
    "                    best_var = var\n",
    "                    changed = True\n",
    "                    selected_vars.remove(best_var)\n",
    "                    break  # 只剔除一个变量后继续向后\n",
    "\n",
    "        if not changed:\n",
    "            break  # 没有变化，退出循环\n",
    "\n",
    "    return best_model, selected_vars  # 返回最优模型及选择的特征"
   ]
  },
  {
   "cell_type": "code",
   "execution_count": null,
   "metadata": {},
   "outputs": [
    {
     "name": "stderr",
     "output_type": "stream",
     "text": [
      "100%|██████████| 288/288 [03:46<00:00,  1.27it/s]"
     ]
    },
    {
     "name": "stdout",
     "output_type": "stream",
     "text": [
      "MSE:\n",
      "145.8795948796848\n"
     ]
    },
    {
     "name": "stderr",
     "output_type": "stream",
     "text": [
      "\n"
     ]
    }
   ],
   "source": [
    "import joblib\n",
    "\n",
    "# 提取资产列表（多重索引的第二层）\n",
    "assets = X.columns.get_level_values(1).unique()\n",
    "# assets = ['601939']\n",
    "dates = Y.index\n",
    "\n",
    "# 创建 DataFrame 存储回归结果\n",
    "regression_betas = pd.DataFrame(columns=['Asset'] + list(X.columns.get_level_values(0).unique()) + ['Intercept'])\n",
    "expected_columns = ['Asset'] + list(X.columns.get_level_values(0).unique()) + ['Intercept']\n",
    "\n",
    "regression_models = {}\n",
    "regression_preds = pd.DataFrame(index=dates, columns=assets)\n",
    "\n",
    "total_mse_regression = 0\n",
    "\n",
    "# # 对每个资产进行回归\n",
    "# for asset in tqdm(assets):\n",
    "#     # print(\"asset: \", asset)\n",
    "#     # 提取该资产对应的 Y 和 X\n",
    "#     y = Y[asset].dropna()\n",
    "#     x = X.xs(asset, axis=1, level=1).reindex(y.index)  # 确保时间对齐\n",
    "\n",
    "#     # 添加常数项\n",
    "#     x = sm.add_constant(x)\n",
    "\n",
    "#     # 找出缺失的列\n",
    "#     missing_columns = [col for col in expected_columns if col not in x.columns and col != 'Asset']\n",
    "    \n",
    "#     # 手动补充缺失列\n",
    "#     for col in missing_columns:\n",
    "#         x[col] = 0\n",
    "\n",
    "#     # 确保列顺序一致\n",
    "#     x = x[expected_columns[1:]]  # 排除 'Asset'，其余列按 expected_columns 的顺序排列\n",
    "    \n",
    "#     # 对特征进行逐步回归\n",
    "#     stepwise_model, selected_vars = stepwise_regression(y, x)\n",
    "\n",
    "#     # print(selected_vars)\n",
    "#     # print(stepwise_model.summary())\n",
    "    \n",
    "#     # 获取逐步回归后的预测值\n",
    "#     pred = stepwise_model.predict(sm.add_constant(x[selected_vars]))  # 用最终选择的特征进行预测\n",
    "#     regression_preds[asset] = pred\n",
    "\n",
    "#     # 计算 MSE\n",
    "#     mse_val = mse1(y, pred)\n",
    "#     total_mse_regression += mse_val\n",
    "\n",
    "#     # 记录回归结果\n",
    "#     result = [asset] + list(stepwise_model.params.reindex(expected_columns[1:]).fillna(0).values)\n",
    "    \n",
    "#     # 保存回归模型\n",
    "#     regression_models[asset] = stepwise_model\n",
    "    \n",
    "#     # 如果路径不存在，创建路径\n",
    "#     if not os.path.exists('models/regression_models'):\n",
    "#         os.makedirs('models/regression_models')\n",
    "    \n",
    "#     joblib.dump(stepwise_model, f'models/regression_models/{asset}.pkl')\n",
    "\n",
    "#     # # 回归分析\n",
    "#     # model = sm.OLS(y, x).fit()\n",
    "    \n",
    "#     # pred = model.predict(x)\n",
    "#     # regression_preds[asset] = pred\n",
    "\n",
    "#     # # 计算 MSE\n",
    "#     # mse_val = mse1(y, pred)\n",
    "#     # total_mse_regression += mse_val\n",
    "\n",
    "#     # # 记录回归结果\n",
    "#     # result = [asset] + list(model.params.reindex(expected_columns[1:]).fillna(0).values)\n",
    "    \n",
    "#     # # 保存回归模型\n",
    "#     # regression_models[asset] = model\n",
    "\n",
    "#     # 检查 result 的长度和 regression_betas 的列数\n",
    "#     # print(\"result 的长度:\", len(result))\n",
    "#     # print(\"regression_betas 的列数:\", len(regression_betas.columns))\n",
    "\n",
    "#     # regression_betas.loc[len(regression_betas)] = result\n",
    "    \n",
    "\n",
    "# # 设置列名\n",
    "# # regression_betas.columns = ['Asset'] + list(X.columns.get_level_values(0).unique()) + ['Intercept']\n",
    "\n",
    "# print(\"MSE:\")\n",
    "# print(total_mse_regression)"
   ]
  },
  {
   "cell_type": "code",
   "execution_count": null,
   "metadata": {},
   "outputs": [],
   "source": [
    "# 在models文件夹中循环读取模型\n",
    "import os\n",
    "\n",
    "# 读取模型\n",
    "regression_models = {}\n",
    "\n",
    "# 遍历 'models' 文件夹中的所有文件\n",
    "models_folder = 'models/regression_models'  # 替换为你的模型文件夹路径\n",
    "for filename in os.listdir(models_folder):\n",
    "    if filename.endswith('.pkl'):  # 根据文件扩展名选择模型文件\n",
    "        model_path = os.path.join(models_folder, filename)\n",
    "        model_name = os.path.splitext(filename)[0]  # 获取文件名作为模型的名称\n",
    "\n",
    "        # 读取模型并存入字典\n",
    "        regression_models[model_name] = joblib.load(model_path)"
   ]
  },
  {
   "cell_type": "markdown",
   "metadata": {},
   "source": [
    "## XGBoost"
   ]
  },
  {
   "cell_type": "code",
   "execution_count": 15,
   "metadata": {},
   "outputs": [],
   "source": [
    "import pandas as pd\n",
    "from sklearn.model_selection import train_test_split, KFold, cross_val_score\n",
    "from sklearn.metrics import mean_squared_error\n",
    "from xgboost import XGBRegressor\n",
    "import numpy as np\n",
    "\n",
    "\n",
    "\n",
    "# 获取资产列表\n",
    "asset_list = X.columns.get_level_values(1).unique()\n",
    "\n",
    "# 存储每个资产的 XGBoost 模型和预测结果\n",
    "xgb_models = {}\n",
    "xgb_preds = pd.DataFrame(index=dates, columns=asset_list)\n",
    "\n",
    "total_mse_xgb = 0\n",
    "\n",
    "# # 对每个资产进行回归\n",
    "# for asset_id in tqdm(asset_list):\n",
    "#     # 提取资产对应的 Y 和 X\n",
    "#     target_y = Y[asset_id].dropna()\n",
    "#     feature_x = X.xs(asset_id, axis=1, level=1).reindex(target_y.index)\n",
    "    \n",
    "#     # 划分训练集和测试集，使用最后 20% 的数据作为测试集\n",
    "#     train_size = int(0.8 * len(feature_x))\n",
    "#     X_train, X_test = feature_x[:train_size], feature_x[train_size:]\n",
    "#     y_train, y_test = target_y[:train_size], target_y[train_size:]\n",
    "\n",
    "#     # 使用交叉验证选择最佳模型\n",
    "#     param_grid = {\n",
    "#         'n_estimators': [50, 100, 200],  # 决策树数量\n",
    "#         'learning_rate': [0.01, 0.05, 0.1],  # 学习率\n",
    "#         'max_depth': [3, 5, 7],  # 最大树深度\n",
    "#         'reg_alpha': [0, 0.1, 1],  # L1 正则化\n",
    "#         'reg_lambda': [0, 0.1, 1],  # L2 正则化\n",
    "#     }\n",
    "    \n",
    "#     best_model = None\n",
    "#     best_score = float('inf')  # 用于记录最优模型的评分\n",
    "    \n",
    "#     # 交叉验证（5折交叉验证）\n",
    "#     kf = KFold(n_splits=5, shuffle=True, random_state=42)\n",
    "    \n",
    "#     for n_estimators in param_grid['n_estimators']:\n",
    "#         for learning_rate in param_grid['learning_rate']:\n",
    "#             for max_depth in param_grid['max_depth']:\n",
    "#                 xgb_regressor = XGBRegressor(\n",
    "#                     n_estimators=n_estimators,\n",
    "#                     learning_rate=learning_rate,\n",
    "#                     max_depth=max_depth,\n",
    "#                     random_state=42\n",
    "#                 )\n",
    "                \n",
    "#                 # 交叉验证评分\n",
    "#                 scores = cross_val_score(xgb_regressor, X_train, y_train, cv=kf, scoring='neg_mean_squared_error')\n",
    "#                 mean_score = -scores.mean()  # 负 MSE 转为正值\n",
    "                \n",
    "#                 # 选择最优模型\n",
    "#                 if mean_score < best_score:\n",
    "#                     best_score = mean_score\n",
    "#                     best_model = xgb_regressor\n",
    "                \n",
    "#     # 使用最优超参数训练模型\n",
    "#     best_model.fit(X_train, y_train)\n",
    "\n",
    "#     # 保存最佳模型\n",
    "#     # xgb_models[asset_id] = best_model\n",
    "#     joblib.dump(best_model, f'models/xgb_models/{asset_id}.pkl')\n",
    "\n",
    "#     # 预测\n",
    "#     xgb_pred = pd.DataFrame(best_model.predict(X_test), index=X_test.index, columns=[asset_id])\n",
    "\n",
    "#     # 保存预测结果\n",
    "#     # xgb_preds[asset_id] = xgb_pred\n",
    "\n",
    "#     # 计算测试集上的 MSE\n",
    "#     mse1 = mean_squared_error(y_test, xgb_pred)\n",
    "#     total_mse_xgb += mse1\n",
    "#     # print(f\"Asset {asset_id} MSE: {mse}\")\n",
    "\n",
    "# # 输出所有资产的总 MSE\n",
    "# average_mse_xgb = total_mse_xgb / len(asset_list)\n",
    "# print(f\"Average MSE across all assets: {average_mse_xgb}\")"
   ]
  },
  {
   "cell_type": "code",
   "execution_count": 16,
   "metadata": {},
   "outputs": [],
   "source": [
    "# 在models文件夹中循环读取模型\n",
    "import os\n",
    "\n",
    "# 读取模型\n",
    "xgb_models = {}\n",
    "\n",
    "# 遍历 'models' 文件夹中的所有文件\n",
    "models_folder = 'models/xgb_models'  # 替换为你的模型文件夹路径\n",
    "for filename in os.listdir(models_folder):\n",
    "    if filename.endswith('.pkl'):  # 根据文件扩展名选择模型文件\n",
    "        model_path = os.path.join(models_folder, filename)\n",
    "        model_name = os.path.splitext(filename)[0]  # 获取文件名作为模型的名称\n",
    "\n",
    "        # 读取模型并存入字典\n",
    "        xgb_models[model_name] = joblib.load(model_path)"
   ]
  },
  {
   "cell_type": "code",
   "execution_count": 17,
   "metadata": {},
   "outputs": [
    {
     "data": {
      "image/png": "[encoded data removed]",
      "text/plain": [
       "<Figure size 1000x600 with 1 Axes>"
      ]
     },
     "metadata": {},
     "output_type": "display_data"
    }
   ],
   "source": [
    "import matplotlib.pyplot as plt\n",
    "from xgboost import plot_importance\n",
    "import matplotlib\n",
    "\n",
    "# 让图像可以在notebook中展示\n",
    "%matplotlib inline\n",
    "\n",
    "# 选择一个特定的资产，比如 '601939'\n",
    "asset_id = '601939'\n",
    "\n",
    "# 提取该资产对应的 XGBoost 模型\n",
    "xgb_model = xgb_models[asset_id]\n",
    "\n",
    "summary = pd.DataFrame(xgb_model.feature_importances_, index=X.columns.get_level_values(0).unique(), columns=['Importance'])\n",
    "summary = summary.sort_values(by='Importance', ascending=False)\n",
    "\n",
    "# 画图\n",
    "plt.figure(figsize=(10, 6))\n",
    "plt.bar(summary.index, summary['Importance'])\n",
    "plt.xticks(rotation=90)\n",
    "plt.title(f'Feature Importance of {asset_id}')\n",
    "plt.show()\n"
   ]
  },
  {
   "cell_type": "code",
   "execution_count": 18,
   "metadata": {},
   "outputs": [],
   "source": [
    "# 画散点图\n",
    "plt.rcParams['axes.unicode_minus'] = False\n",
    "def plot_y_and_pred(y, pred, asset_id, ifshow=True):\n",
    "    plt.figure(figsize=(10, 6))\n",
    "    plt.scatter(y.index, y, label='True', s = 5)\n",
    "    plt.scatter(pred.index, pred, label='Predicted', s = 5)\n",
    "    plt.title(f'True and Predicted Returns of {asset_id}')\n",
    "    plt.legend()\n",
    "    \n",
    "    if ifshow:\n",
    "        plt.show()\n",
    "        \n",
    "    else:\n",
    "        plt.savefig(f'output_charts/predicts/{asset_id}.png')\n",
    "        plt.close()"
   ]
  },
  {
   "cell_type": "code",
   "execution_count": 19,
   "metadata": {},
   "outputs": [
    {
     "data": {
      "text/plain": [
       "Index(['000001', '000002', '000009', '000012', '000021', '000027', '000031',\n",
       "       '000039', '000046', '000059',\n",
       "       ...\n",
       "       '601898', '601899', '601918', '601919', '601939', '601958', '601988',\n",
       "       '601989', '601991', '601998'],\n",
       "      dtype='object', name='asset', length=288)"
      ]
     },
     "execution_count": 19,
     "metadata": {},
     "output_type": "execute_result"
    }
   ],
   "source": [
    "assets"
   ]
  },
  {
   "cell_type": "code",
   "execution_count": 73,
   "metadata": {},
   "outputs": [
    {
     "name": "stdout",
     "output_type": "stream",
     "text": [
      "(2918, 9216) (2918,) (2918,)\n",
      "Test MSE: 0.6943563695889465\n"
     ]
    },
    {
     "data": {
      "image/png": "[encoded data removed]",
      "text/plain": [
       "<Figure size 1000x600 with 1 Axes>"
      ]
     },
     "metadata": {},
     "output_type": "display_data"
    },
    {
     "name": "stdout",
     "output_type": "stream",
     "text": [
      "(2918, 9216) (2918,) (2918,)\n",
      "Test MSE: 0.6646373183043105\n"
     ]
    },
    {
     "data": {
      "image/png": "[encoded data removed]",
      "text/plain": [
       "<Figure size 1000x600 with 1 Axes>"
      ]
     },
     "metadata": {},
     "output_type": "display_data"
    }
   ],
   "source": [
    "# 提取该资产对应的 Y 和 pred\n",
    "y1 = returns - df_all_pivot['rf'].values\n",
    "index_all = y1.index\n",
    "X1 = df_all_pivot.drop(['rf', 'alpha_Fama_French', 'open', 'close', 'high', 'low', 'volume', 'amount', 'pctChg', 'cta', 'roe','vwap', 'pctChg',\n",
    "       'turnover', 'benchmark_open', 'benchmark_close', 'benchmark_high',\n",
    "       'benchmark_low', 'benchmark_vol', 'roe', 'roa', 'cvd', 'epq', 'emq',\n",
    "       'sgq', 'alaq', 'pmq', 'cta', 'size', 'rf', 'bm'], axis=1, level=0)\n",
    "\n",
    "def plot_test_pred(y, X, asset_id, ifshow=True, isXgb=True):\n",
    "       y1 = y[asset_id].dropna()\n",
    "       y1 = pd.Series(y1, index=index_all)\n",
    "\n",
    "       if isXgb:\n",
    "              pred = xgb_models[asset_id].predict(X.xs(asset_id, axis=1, level=1))\n",
    "       else:\n",
    "              model = regression_models[asset_id]\n",
    "              selected_vars = model.params.index.tolist()\n",
    "              \n",
    "              isIntercept = False\n",
    "              if('Intercept' in selected_vars):\n",
    "                     isIntercept = True\n",
    "              isconst = False\n",
    "              if('const' in selected_vars):\n",
    "                     isconst = True\n",
    "              \n",
    "              selected_vars = [var for var in selected_vars if var != 'const' and var != 'Intercept']\n",
    "              \n",
    "              # print(model.params)\n",
    "              \n",
    "              # print(model.params.shape)\n",
    "              X2 = X.xs(asset_id, axis=1, level=1)[selected_vars]\n",
    "              \n",
    "              if 'const' not in X2.columns and isconst:\n",
    "                     X2 = sm.add_constant(X2)\n",
    "              if isIntercept:\n",
    "                     X2['Intercept'] = 1\n",
    "                     \n",
    "              # print(X2.columns)\n",
    "              \n",
    "              pred = model.predict(X2)\n",
    "       pred = pd.Series(pred, index=index_all)\n",
    "       \n",
    "       print(X.shape, y1.shape, pred.shape)\n",
    "       \n",
    "       test_mse = mse1(y1, pred)\n",
    "       print(f\"Test MSE: {test_mse}\")       \n",
    "       \n",
    "       plot_y_and_pred(y1, pred, asset_id, ifshow)\n",
    "       \n",
    "asset_id = '601939'\n",
    "\n",
    "plot_test_pred(y1, X1, asset_id, isXgb=False)\n",
    "plot_test_pred(y1, X1, asset_id, isXgb=True)"
   ]
  },
  {
   "cell_type": "code",
   "execution_count": 76,
   "metadata": {},
   "outputs": [],
   "source": [
    "# 保存预测结果为因子形式\n",
    "\n",
    "import os\n",
    "from utils import rank\n",
    "\n",
    "def save_to_factors(X, isXgb=True):\n",
    "    results_pred = pd.DataFrame(index=all_time_index, columns=assets)\n",
    "    for asset_id in tqdm(assets):\n",
    "        if isXgb:\n",
    "            pred = xgb_models[asset_id].predict(X.xs(asset_id, axis=1, level=1))\n",
    "        else:\n",
    "            model = regression_models[asset_id]\n",
    "            selected_vars = model.params.index.tolist()\n",
    "            \n",
    "            isIntercept = False\n",
    "            if('Intercept' in selected_vars):\n",
    "                    isIntercept = True\n",
    "            isconst = False\n",
    "            if('const' in selected_vars):\n",
    "                    isconst = True\n",
    "            \n",
    "            selected_vars = [var for var in selected_vars if var != 'const' and var != 'Intercept']\n",
    "            \n",
    "            # print(model.params)\n",
    "            \n",
    "            # print(model.params.shape)\n",
    "            X2 = X.xs(asset_id, axis=1, level=1)[selected_vars]\n",
    "            \n",
    "            if 'const' not in X2.columns and isconst:\n",
    "                    X2 = sm.add_constant(X2)\n",
    "            if isIntercept:\n",
    "                    X2['Intercept'] = 1\n",
    "                    \n",
    "            # print(X2.columns)\n",
    "            \n",
    "            pred = model.predict(X2)\n",
    "            \n",
    "        pred = pd.Series(pred, index=all_time_index)\n",
    "        \n",
    "        results_pred[asset_id] = pred\n",
    "    \n",
    "    results_pred = rank(results_pred)\n",
    "        \n",
    "    # 如果路径不存在，创建路径\n",
    "    if not os.path.exists('alphas/multialpha'):\n",
    "        os.makedirs('alphas/multialpha')\n",
    "    \n",
    "    results_pred.to_csv(f'alphas/multialpha/20110430/alpha_isXgb_{isXgb}.csv')\n"
   ]
  },
  {
   "cell_type": "code",
   "execution_count": null,
   "metadata": {},
   "outputs": [],
   "source": [
    "save_to_factors(X1)"
   ]
  },
  {
   "cell_type": "code",
   "execution_count": 77,
   "metadata": {},
   "outputs": [
    {
     "name": "stderr",
     "output_type": "stream",
     "text": [
      "  0%|          | 0/288 [00:00<?, ?it/s]"
     ]
    },
    {
     "name": "stderr",
     "output_type": "stream",
     "text": [
      "100%|██████████| 288/288 [00:00<00:00, 339.10it/s]\n"
     ]
    }
   ],
   "source": [
    "save_to_factors(X1, isXgb=False)"
   ]
  },
  {
   "cell_type": "code",
   "execution_count": null,
   "metadata": {},
   "outputs": [],
   "source": []
  }
 ],
 "metadata": {
  "kernelspec": {
   "display_name": "py310",
   "language": "python",
   "name": "python3"
  },
  "language_info": {
   "codemirror_mode": {
    "name": "ipython",
    "version": 3
   },
   "file_extension": ".py",
   "mimetype": "text/x-python",
   "name": "python",
   "nbconvert_exporter": "python",
   "pygments_lexer": "ipython3",
   "version": "3.10.15"
  }
 },
 "nbformat": 4,
 "nbformat_minor": 2
}
